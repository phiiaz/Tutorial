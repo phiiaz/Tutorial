{
  "nbformat": 4,
  "nbformat_minor": 0,
  "metadata": {
    "colab": {
      "name": "Java-Collections.ipynb",
      "provenance": [],
      "collapsed_sections": [],
      "toc_visible": true,
      "include_colab_link": true
    },
    "kernelspec": {
      "name": "java",
      "display_name": "Java"
    }
  },
  "cells": [
    {
      "cell_type": "markdown",
      "metadata": {
        "id": "view-in-github",
        "colab_type": "text"
      },
      "source": [
        "<a href=\"https://colab.research.google.com/github/phiiaz/Tutorial/blob/master/Java_Collections.ipynb\" target=\"_parent\"><img src=\"https://colab.research.google.com/assets/colab-badge.svg\" alt=\"Open In Colab\"/></a>"
      ]
    },
    {
      "cell_type": "markdown",
      "metadata": {
        "id": "CBWQIvc0Ov3P",
        "colab_type": "text"
      },
      "source": [
        "# Prepare Java Kernel for Google Colab\n",
        "This notebook is a template to use Java in Google Colaboratory (inspired by [Google Colab Javascript QuickStart](https://dev.to/obenjiro/silence-of-the-fans-part-1-javascript-quickstart-5f3m)). It uses [IJava](https://github.com/SpencerPark/IJava) as the Jupyter Kernel.\n",
        "1. Run the cell bellow (click it and press `Shift`+`Enter`),\n",
        "2. then refresh the page (press `F5`) right after that.\n",
        "\n",
        "Now you can write Java code. See examples in the next section."
      ]
    },
    {
      "cell_type": "code",
      "metadata": {
        "id": "RwIAuN1IKtUo",
        "colab_type": "code",
        "colab": {}
      },
      "source": [
        "!apt update -q\n",
        "!apt-get install -q openjdk-11-jdk-headless\n",
        "!curl -L https://github.com/SpencerPark/IJava/releases/download/v1.3.0/ijava-1.3.0.zip -o ijava-kernel.zip\n",
        "!unzip -q ijava-kernel.zip -d ijava-kernel && cd ijava-kernel && python3 install.py --sys-prefix\n",
        "!jupyter kernelspec list"
      ],
      "execution_count": null,
      "outputs": []
    },
    {
      "cell_type": "code",
      "metadata": {
        "id": "lO1aYxJrQHX0",
        "colab_type": "code",
        "colab": {
          "base_uri": "https://localhost:8080/",
          "height": 34
        },
        "outputId": "f3a3cd26-063e-4f1b-ba7b-eb896e8a33b7"
      },
      "source": [
        "System.out.println(\"Hello world!\");"
      ],
      "execution_count": null,
      "outputs": [
        {
          "output_type": "stream",
          "text": [
            "Hello world!\n"
          ],
          "name": "stdout"
        }
      ]
    },
    {
      "cell_type": "markdown",
      "metadata": {
        "id": "USI3wh5pQEmg",
        "colab_type": "text"
      },
      "source": [
        "# Java Collections\n"
      ]
    }
  ]
}